{
  "nbformat": 4,
  "nbformat_minor": 0,
  "metadata": {
    "colab": {
      "provenance": []
    },
    "kernelspec": {
      "name": "python3",
      "display_name": "Python 3"
    },
    "language_info": {
      "name": "python"
    }
  },
  "cells": [
    {
      "cell_type": "code",
      "source": [
        "# Load Python Libraries\n",
        "import pandas as pd\n",
        "import matplotlib.pyplot as plt"
      ],
      "metadata": {
        "id": "ntcq6mBn657V"
      },
      "execution_count": 108,
      "outputs": []
    },
    {
      "cell_type": "code",
      "source": [
        "# Read CSV\n",
        "df = pd.read_csv(\"survey_results_public.csv\")\n",
        "df.head()"
      ],
      "metadata": {
        "id": "DaX2ilBv53xD",
        "colab": {
          "base_uri": "https://localhost:8080/",
          "height": 560
        },
        "outputId": "863e2a03-cb05-46be-97ca-1da5a11aa1c5"
      },
      "execution_count": 109,
      "outputs": [
        {
          "output_type": "execute_result",
          "data": {
            "text/plain": [
              "   Respondent                                         MainBranch Hobbyist  \\\n",
              "0           1                     I am a developer by profession      Yes   \n",
              "1           2                     I am a developer by profession       No   \n",
              "2           3                        I code primarily as a hobby      Yes   \n",
              "3           4                     I am a developer by profession      Yes   \n",
              "4           5  I used to be a developer by profession, but no...      Yes   \n",
              "\n",
              "    Age Age1stCode CompFreq  CompTotal  ConvertedComp             Country  \\\n",
              "0   NaN         13  Monthly        NaN            NaN             Germany   \n",
              "1   NaN         19      NaN        NaN            NaN      United Kingdom   \n",
              "2   NaN         15      NaN        NaN            NaN  Russian Federation   \n",
              "3  25.0         18      NaN        NaN            NaN             Albania   \n",
              "4  31.0         16      NaN        NaN            NaN       United States   \n",
              "\n",
              "     CurrencyDesc  ...                  SurveyEase           SurveyLength  \\\n",
              "0   European Euro  ...  Neither easy nor difficult  Appropriate in length   \n",
              "1  Pound sterling  ...                         NaN                    NaN   \n",
              "2             NaN  ...  Neither easy nor difficult  Appropriate in length   \n",
              "3    Albanian lek  ...                         NaN                    NaN   \n",
              "4             NaN  ...                        Easy              Too short   \n",
              "\n",
              "  Trans                                     UndergradMajor  \\\n",
              "0    No  Computer science, computer engineering, or sof...   \n",
              "1   NaN  Computer science, computer engineering, or sof...   \n",
              "2   NaN                                                NaN   \n",
              "3    No  Computer science, computer engineering, or sof...   \n",
              "4    No  Computer science, computer engineering, or sof...   \n",
              "\n",
              "  WebframeDesireNextYear    WebframeWorkedWith  \\\n",
              "0           ASP.NET Core  ASP.NET;ASP.NET Core   \n",
              "1                    NaN                   NaN   \n",
              "2                    NaN                   NaN   \n",
              "3                    NaN                   NaN   \n",
              "4   Django;Ruby on Rails         Ruby on Rails   \n",
              "\n",
              "                              WelcomeChange WorkWeekHrs YearsCode YearsCodePro  \n",
              "0   Just as welcome now as I felt last year        50.0        36           27  \n",
              "1  Somewhat more welcome now than last year         NaN         7            4  \n",
              "2  Somewhat more welcome now than last year         NaN         4          NaN  \n",
              "3  Somewhat less welcome now than last year        40.0         7            4  \n",
              "4   Just as welcome now as I felt last year         NaN        15            8  \n",
              "\n",
              "[5 rows x 61 columns]"
            ],
            "text/html": [
              "\n",
              "\n",
              "  <div id=\"df-b907e61b-740e-4bc2-bbb8-c769a26e98de\">\n",
              "    <div class=\"colab-df-container\">\n",
              "      <div>\n",
              "<style scoped>\n",
              "    .dataframe tbody tr th:only-of-type {\n",
              "        vertical-align: middle;\n",
              "    }\n",
              "\n",
              "    .dataframe tbody tr th {\n",
              "        vertical-align: top;\n",
              "    }\n",
              "\n",
              "    .dataframe thead th {\n",
              "        text-align: right;\n",
              "    }\n",
              "</style>\n",
              "<table border=\"1\" class=\"dataframe\">\n",
              "  <thead>\n",
              "    <tr style=\"text-align: right;\">\n",
              "      <th></th>\n",
              "      <th>Respondent</th>\n",
              "      <th>MainBranch</th>\n",
              "      <th>Hobbyist</th>\n",
              "      <th>Age</th>\n",
              "      <th>Age1stCode</th>\n",
              "      <th>CompFreq</th>\n",
              "      <th>CompTotal</th>\n",
              "      <th>ConvertedComp</th>\n",
              "      <th>Country</th>\n",
              "      <th>CurrencyDesc</th>\n",
              "      <th>...</th>\n",
              "      <th>SurveyEase</th>\n",
              "      <th>SurveyLength</th>\n",
              "      <th>Trans</th>\n",
              "      <th>UndergradMajor</th>\n",
              "      <th>WebframeDesireNextYear</th>\n",
              "      <th>WebframeWorkedWith</th>\n",
              "      <th>WelcomeChange</th>\n",
              "      <th>WorkWeekHrs</th>\n",
              "      <th>YearsCode</th>\n",
              "      <th>YearsCodePro</th>\n",
              "    </tr>\n",
              "  </thead>\n",
              "  <tbody>\n",
              "    <tr>\n",
              "      <th>0</th>\n",
              "      <td>1</td>\n",
              "      <td>I am a developer by profession</td>\n",
              "      <td>Yes</td>\n",
              "      <td>NaN</td>\n",
              "      <td>13</td>\n",
              "      <td>Monthly</td>\n",
              "      <td>NaN</td>\n",
              "      <td>NaN</td>\n",
              "      <td>Germany</td>\n",
              "      <td>European Euro</td>\n",
              "      <td>...</td>\n",
              "      <td>Neither easy nor difficult</td>\n",
              "      <td>Appropriate in length</td>\n",
              "      <td>No</td>\n",
              "      <td>Computer science, computer engineering, or sof...</td>\n",
              "      <td>ASP.NET Core</td>\n",
              "      <td>ASP.NET;ASP.NET Core</td>\n",
              "      <td>Just as welcome now as I felt last year</td>\n",
              "      <td>50.0</td>\n",
              "      <td>36</td>\n",
              "      <td>27</td>\n",
              "    </tr>\n",
              "    <tr>\n",
              "      <th>1</th>\n",
              "      <td>2</td>\n",
              "      <td>I am a developer by profession</td>\n",
              "      <td>No</td>\n",
              "      <td>NaN</td>\n",
              "      <td>19</td>\n",
              "      <td>NaN</td>\n",
              "      <td>NaN</td>\n",
              "      <td>NaN</td>\n",
              "      <td>United Kingdom</td>\n",
              "      <td>Pound sterling</td>\n",
              "      <td>...</td>\n",
              "      <td>NaN</td>\n",
              "      <td>NaN</td>\n",
              "      <td>NaN</td>\n",
              "      <td>Computer science, computer engineering, or sof...</td>\n",
              "      <td>NaN</td>\n",
              "      <td>NaN</td>\n",
              "      <td>Somewhat more welcome now than last year</td>\n",
              "      <td>NaN</td>\n",
              "      <td>7</td>\n",
              "      <td>4</td>\n",
              "    </tr>\n",
              "    <tr>\n",
              "      <th>2</th>\n",
              "      <td>3</td>\n",
              "      <td>I code primarily as a hobby</td>\n",
              "      <td>Yes</td>\n",
              "      <td>NaN</td>\n",
              "      <td>15</td>\n",
              "      <td>NaN</td>\n",
              "      <td>NaN</td>\n",
              "      <td>NaN</td>\n",
              "      <td>Russian Federation</td>\n",
              "      <td>NaN</td>\n",
              "      <td>...</td>\n",
              "      <td>Neither easy nor difficult</td>\n",
              "      <td>Appropriate in length</td>\n",
              "      <td>NaN</td>\n",
              "      <td>NaN</td>\n",
              "      <td>NaN</td>\n",
              "      <td>NaN</td>\n",
              "      <td>Somewhat more welcome now than last year</td>\n",
              "      <td>NaN</td>\n",
              "      <td>4</td>\n",
              "      <td>NaN</td>\n",
              "    </tr>\n",
              "    <tr>\n",
              "      <th>3</th>\n",
              "      <td>4</td>\n",
              "      <td>I am a developer by profession</td>\n",
              "      <td>Yes</td>\n",
              "      <td>25.0</td>\n",
              "      <td>18</td>\n",
              "      <td>NaN</td>\n",
              "      <td>NaN</td>\n",
              "      <td>NaN</td>\n",
              "      <td>Albania</td>\n",
              "      <td>Albanian lek</td>\n",
              "      <td>...</td>\n",
              "      <td>NaN</td>\n",
              "      <td>NaN</td>\n",
              "      <td>No</td>\n",
              "      <td>Computer science, computer engineering, or sof...</td>\n",
              "      <td>NaN</td>\n",
              "      <td>NaN</td>\n",
              "      <td>Somewhat less welcome now than last year</td>\n",
              "      <td>40.0</td>\n",
              "      <td>7</td>\n",
              "      <td>4</td>\n",
              "    </tr>\n",
              "    <tr>\n",
              "      <th>4</th>\n",
              "      <td>5</td>\n",
              "      <td>I used to be a developer by profession, but no...</td>\n",
              "      <td>Yes</td>\n",
              "      <td>31.0</td>\n",
              "      <td>16</td>\n",
              "      <td>NaN</td>\n",
              "      <td>NaN</td>\n",
              "      <td>NaN</td>\n",
              "      <td>United States</td>\n",
              "      <td>NaN</td>\n",
              "      <td>...</td>\n",
              "      <td>Easy</td>\n",
              "      <td>Too short</td>\n",
              "      <td>No</td>\n",
              "      <td>Computer science, computer engineering, or sof...</td>\n",
              "      <td>Django;Ruby on Rails</td>\n",
              "      <td>Ruby on Rails</td>\n",
              "      <td>Just as welcome now as I felt last year</td>\n",
              "      <td>NaN</td>\n",
              "      <td>15</td>\n",
              "      <td>8</td>\n",
              "    </tr>\n",
              "  </tbody>\n",
              "</table>\n",
              "<p>5 rows × 61 columns</p>\n",
              "</div>\n",
              "      <button class=\"colab-df-convert\" onclick=\"convertToInteractive('df-b907e61b-740e-4bc2-bbb8-c769a26e98de')\"\n",
              "              title=\"Convert this dataframe to an interactive table.\"\n",
              "              style=\"display:none;\">\n",
              "\n",
              "  <svg xmlns=\"http://www.w3.org/2000/svg\" height=\"24px\"viewBox=\"0 0 24 24\"\n",
              "       width=\"24px\">\n",
              "    <path d=\"M0 0h24v24H0V0z\" fill=\"none\"/>\n",
              "    <path d=\"M18.56 5.44l.94 2.06.94-2.06 2.06-.94-2.06-.94-.94-2.06-.94 2.06-2.06.94zm-11 1L8.5 8.5l.94-2.06 2.06-.94-2.06-.94L8.5 2.5l-.94 2.06-2.06.94zm10 10l.94 2.06.94-2.06 2.06-.94-2.06-.94-.94-2.06-.94 2.06-2.06.94z\"/><path d=\"M17.41 7.96l-1.37-1.37c-.4-.4-.92-.59-1.43-.59-.52 0-1.04.2-1.43.59L10.3 9.45l-7.72 7.72c-.78.78-.78 2.05 0 2.83L4 21.41c.39.39.9.59 1.41.59.51 0 1.02-.2 1.41-.59l7.78-7.78 2.81-2.81c.8-.78.8-2.07 0-2.86zM5.41 20L4 18.59l7.72-7.72 1.47 1.35L5.41 20z\"/>\n",
              "  </svg>\n",
              "      </button>\n",
              "\n",
              "\n",
              "\n",
              "    <div id=\"df-bdef6eba-6fab-4cb9-8457-434e975388b3\">\n",
              "      <button class=\"colab-df-quickchart\" onclick=\"quickchart('df-bdef6eba-6fab-4cb9-8457-434e975388b3')\"\n",
              "              title=\"Suggest charts.\"\n",
              "              style=\"display:none;\">\n",
              "\n",
              "<svg xmlns=\"http://www.w3.org/2000/svg\" height=\"24px\"viewBox=\"0 0 24 24\"\n",
              "     width=\"24px\">\n",
              "    <g>\n",
              "        <path d=\"M19 3H5c-1.1 0-2 .9-2 2v14c0 1.1.9 2 2 2h14c1.1 0 2-.9 2-2V5c0-1.1-.9-2-2-2zM9 17H7v-7h2v7zm4 0h-2V7h2v10zm4 0h-2v-4h2v4z\"/>\n",
              "    </g>\n",
              "</svg>\n",
              "      </button>\n",
              "    </div>\n",
              "\n",
              "<style>\n",
              "  .colab-df-quickchart {\n",
              "    background-color: #E8F0FE;\n",
              "    border: none;\n",
              "    border-radius: 50%;\n",
              "    cursor: pointer;\n",
              "    display: none;\n",
              "    fill: #1967D2;\n",
              "    height: 32px;\n",
              "    padding: 0 0 0 0;\n",
              "    width: 32px;\n",
              "  }\n",
              "\n",
              "  .colab-df-quickchart:hover {\n",
              "    background-color: #E2EBFA;\n",
              "    box-shadow: 0px 1px 2px rgba(60, 64, 67, 0.3), 0px 1px 3px 1px rgba(60, 64, 67, 0.15);\n",
              "    fill: #174EA6;\n",
              "  }\n",
              "\n",
              "  [theme=dark] .colab-df-quickchart {\n",
              "    background-color: #3B4455;\n",
              "    fill: #D2E3FC;\n",
              "  }\n",
              "\n",
              "  [theme=dark] .colab-df-quickchart:hover {\n",
              "    background-color: #434B5C;\n",
              "    box-shadow: 0px 1px 3px 1px rgba(0, 0, 0, 0.15);\n",
              "    filter: drop-shadow(0px 1px 2px rgba(0, 0, 0, 0.3));\n",
              "    fill: #FFFFFF;\n",
              "  }\n",
              "</style>\n",
              "\n",
              "    <script>\n",
              "      async function quickchart(key) {\n",
              "        const containerElement = document.querySelector('#' + key);\n",
              "        const charts = await google.colab.kernel.invokeFunction(\n",
              "            'suggestCharts', [key], {});\n",
              "      }\n",
              "    </script>\n",
              "\n",
              "      <script>\n",
              "\n",
              "function displayQuickchartButton(domScope) {\n",
              "  let quickchartButtonEl =\n",
              "    domScope.querySelector('#df-bdef6eba-6fab-4cb9-8457-434e975388b3 button.colab-df-quickchart');\n",
              "  quickchartButtonEl.style.display =\n",
              "    google.colab.kernel.accessAllowed ? 'block' : 'none';\n",
              "}\n",
              "\n",
              "        displayQuickchartButton(document);\n",
              "      </script>\n",
              "      <style>\n",
              "    .colab-df-container {\n",
              "      display:flex;\n",
              "      flex-wrap:wrap;\n",
              "      gap: 12px;\n",
              "    }\n",
              "\n",
              "    .colab-df-convert {\n",
              "      background-color: #E8F0FE;\n",
              "      border: none;\n",
              "      border-radius: 50%;\n",
              "      cursor: pointer;\n",
              "      display: none;\n",
              "      fill: #1967D2;\n",
              "      height: 32px;\n",
              "      padding: 0 0 0 0;\n",
              "      width: 32px;\n",
              "    }\n",
              "\n",
              "    .colab-df-convert:hover {\n",
              "      background-color: #E2EBFA;\n",
              "      box-shadow: 0px 1px 2px rgba(60, 64, 67, 0.3), 0px 1px 3px 1px rgba(60, 64, 67, 0.15);\n",
              "      fill: #174EA6;\n",
              "    }\n",
              "\n",
              "    [theme=dark] .colab-df-convert {\n",
              "      background-color: #3B4455;\n",
              "      fill: #D2E3FC;\n",
              "    }\n",
              "\n",
              "    [theme=dark] .colab-df-convert:hover {\n",
              "      background-color: #434B5C;\n",
              "      box-shadow: 0px 1px 3px 1px rgba(0, 0, 0, 0.15);\n",
              "      filter: drop-shadow(0px 1px 2px rgba(0, 0, 0, 0.3));\n",
              "      fill: #FFFFFF;\n",
              "    }\n",
              "  </style>\n",
              "\n",
              "      <script>\n",
              "        const buttonEl =\n",
              "          document.querySelector('#df-b907e61b-740e-4bc2-bbb8-c769a26e98de button.colab-df-convert');\n",
              "        buttonEl.style.display =\n",
              "          google.colab.kernel.accessAllowed ? 'block' : 'none';\n",
              "\n",
              "        async function convertToInteractive(key) {\n",
              "          const element = document.querySelector('#df-b907e61b-740e-4bc2-bbb8-c769a26e98de');\n",
              "          const dataTable =\n",
              "            await google.colab.kernel.invokeFunction('convertToInteractive',\n",
              "                                                     [key], {});\n",
              "          if (!dataTable) return;\n",
              "\n",
              "          const docLinkHtml = 'Like what you see? Visit the ' +\n",
              "            '<a target=\"_blank\" href=https://colab.research.google.com/notebooks/data_table.ipynb>data table notebook</a>'\n",
              "            + ' to learn more about interactive tables.';\n",
              "          element.innerHTML = '';\n",
              "          dataTable['output_type'] = 'display_data';\n",
              "          await google.colab.output.renderOutput(dataTable, element);\n",
              "          const docLink = document.createElement('div');\n",
              "          docLink.innerHTML = docLinkHtml;\n",
              "          element.appendChild(docLink);\n",
              "        }\n",
              "      </script>\n",
              "    </div>\n",
              "  </div>\n"
            ]
          },
          "metadata": {},
          "execution_count": 109
        }
      ]
    },
    {
      "cell_type": "code",
      "source": [
        "# See the dataframes's columns\n",
        "df.columns"
      ],
      "metadata": {
        "colab": {
          "base_uri": "https://localhost:8080/"
        },
        "id": "Sr0rFmvwCpqK",
        "outputId": "4b1f2fc9-4fa3-4fdc-9da8-39ad25719df5"
      },
      "execution_count": 110,
      "outputs": [
        {
          "output_type": "execute_result",
          "data": {
            "text/plain": [
              "Index(['Respondent', 'MainBranch', 'Hobbyist', 'Age', 'Age1stCode', 'CompFreq',\n",
              "       'CompTotal', 'ConvertedComp', 'Country', 'CurrencyDesc',\n",
              "       'CurrencySymbol', 'DatabaseDesireNextYear', 'DatabaseWorkedWith',\n",
              "       'DevType', 'EdLevel', 'Employment', 'Ethnicity', 'Gender', 'JobFactors',\n",
              "       'JobSat', 'JobSeek', 'LanguageDesireNextYear', 'LanguageWorkedWith',\n",
              "       'MiscTechDesireNextYear', 'MiscTechWorkedWith',\n",
              "       'NEWCollabToolsDesireNextYear', 'NEWCollabToolsWorkedWith', 'NEWDevOps',\n",
              "       'NEWDevOpsImpt', 'NEWEdImpt', 'NEWJobHunt', 'NEWJobHuntResearch',\n",
              "       'NEWLearn', 'NEWOffTopic', 'NEWOnboardGood', 'NEWOtherComms',\n",
              "       'NEWOvertime', 'NEWPurchaseResearch', 'NEWPurpleLink', 'NEWSOSites',\n",
              "       'NEWStuck', 'OpSys', 'OrgSize', 'PlatformDesireNextYear',\n",
              "       'PlatformWorkedWith', 'PurchaseWhat', 'Sexuality', 'SOAccount',\n",
              "       'SOComm', 'SOPartFreq', 'SOVisitFreq', 'SurveyEase', 'SurveyLength',\n",
              "       'Trans', 'UndergradMajor', 'WebframeDesireNextYear',\n",
              "       'WebframeWorkedWith', 'WelcomeChange', 'WorkWeekHrs', 'YearsCode',\n",
              "       'YearsCodePro'],\n",
              "      dtype='object')"
            ]
          },
          "metadata": {},
          "execution_count": 110
        }
      ]
    },
    {
      "cell_type": "code",
      "source": [
        "# Only interested in Country, YearsCodePro, Employment, and ConvertedComp (Salary)\n",
        "df = df[[\"Country\", \"EdLevel\", \"YearsCodePro\", \"Employment\", \"ConvertedComp\"]]\n",
        "\n",
        "# Rename the convertedcomp variable to salary\n",
        "df = df.rename({'ConvertedComp':'Salary'}, axis = 1)"
      ],
      "metadata": {
        "id": "eu4mkyirCpsf"
      },
      "execution_count": 111,
      "outputs": []
    },
    {
      "cell_type": "code",
      "source": [
        "df['Salary'].unique()\n",
        "\n",
        "# Values in Salary column has null values. Remove null values\n",
        "df = df[df['Salary'].notnull()]"
      ],
      "metadata": {
        "id": "W4a8zV4UCpu1"
      },
      "execution_count": 112,
      "outputs": []
    },
    {
      "cell_type": "code",
      "source": [
        "# Check if there are any null values in other columns\n",
        "df.info()"
      ],
      "metadata": {
        "colab": {
          "base_uri": "https://localhost:8080/"
        },
        "id": "zmbxhLvdCpxM",
        "outputId": "780925dc-8882-42d0-bcf7-90509e1227a7"
      },
      "execution_count": 113,
      "outputs": [
        {
          "output_type": "stream",
          "name": "stdout",
          "text": [
            "<class 'pandas.core.frame.DataFrame'>\n",
            "Int64Index: 34756 entries, 7 to 64154\n",
            "Data columns (total 5 columns):\n",
            " #   Column        Non-Null Count  Dtype  \n",
            "---  ------        --------------  -----  \n",
            " 0   Country       34756 non-null  object \n",
            " 1   EdLevel       34188 non-null  object \n",
            " 2   YearsCodePro  34621 non-null  object \n",
            " 3   Employment    34717 non-null  object \n",
            " 4   Salary        34756 non-null  float64\n",
            "dtypes: float64(1), object(4)\n",
            "memory usage: 1.6+ MB\n"
          ]
        }
      ]
    },
    {
      "cell_type": "markdown",
      "source": [
        "There are null values in other variables"
      ],
      "metadata": {
        "id": "HbxJ-wV7DuLe"
      }
    },
    {
      "cell_type": "code",
      "source": [
        "# Remove all null values\n",
        "df = df.dropna()\n",
        "\n",
        "#If the sum of all null values = 0, we successfully removed all null values\n",
        "print(df.isnull().sum())"
      ],
      "metadata": {
        "colab": {
          "base_uri": "https://localhost:8080/"
        },
        "id": "XV4EvmNaCpzg",
        "outputId": "fb184e83-aac0-4dac-9bcd-e58697a98cb8"
      },
      "execution_count": 114,
      "outputs": [
        {
          "output_type": "stream",
          "name": "stdout",
          "text": [
            "Country         0\n",
            "EdLevel         0\n",
            "YearsCodePro    0\n",
            "Employment      0\n",
            "Salary          0\n",
            "dtype: int64\n"
          ]
        }
      ]
    },
    {
      "cell_type": "code",
      "source": [
        "# See the values in Employment column\n",
        "df['Employment'].unique()"
      ],
      "metadata": {
        "colab": {
          "base_uri": "https://localhost:8080/"
        },
        "id": "GPInyzKMCp16",
        "outputId": "b5bab780-d706-46d3-eeba-cff4e85e38c6"
      },
      "execution_count": 115,
      "outputs": [
        {
          "output_type": "execute_result",
          "data": {
            "text/plain": [
              "array(['Employed full-time',\n",
              "       'Independent contractor, freelancer, or self-employed',\n",
              "       'Employed part-time'], dtype=object)"
            ]
          },
          "metadata": {},
          "execution_count": 115
        }
      ]
    },
    {
      "cell_type": "code",
      "source": [
        "# Maintain all the Employed full-time rows, but remove the Employment column as we only care about Employed full-time\n",
        "df = df[df['Employment'] == 'Employed full-time']\n",
        "df = df.drop('Employment', axis = 1)\n",
        "df"
      ],
      "metadata": {
        "colab": {
          "base_uri": "https://localhost:8080/",
          "height": 424
        },
        "id": "mDYMfHkdCp4E",
        "outputId": "5f487964-9561-477e-c981-8852dcea525f"
      },
      "execution_count": 116,
      "outputs": [
        {
          "output_type": "execute_result",
          "data": {
            "text/plain": [
              "              Country                                            EdLevel  \\\n",
              "7       United States       Bachelor’s degree (B.A., B.S., B.Eng., etc.)   \n",
              "9      United Kingdom    Master’s degree (M.A., M.S., M.Eng., MBA, etc.)   \n",
              "10     United Kingdom       Bachelor’s degree (B.A., B.S., B.Eng., etc.)   \n",
              "11              Spain  Some college/university study without earning ...   \n",
              "12        Netherlands  Secondary school (e.g. American high school, G...   \n",
              "...               ...                                                ...   \n",
              "64135         Denmark       Bachelor’s degree (B.A., B.S., B.Eng., etc.)   \n",
              "64148        Colombia       Bachelor’s degree (B.A., B.S., B.Eng., etc.)   \n",
              "64152   United States  Some college/university study without earning ...   \n",
              "64153           Chile       Bachelor’s degree (B.A., B.S., B.Eng., etc.)   \n",
              "64154           Japan       Bachelor’s degree (B.A., B.S., B.Eng., etc.)   \n",
              "\n",
              "           YearsCodePro    Salary  \n",
              "7                    13  116000.0  \n",
              "9                     4   32315.0  \n",
              "10                    2   40070.0  \n",
              "11                    7   14268.0  \n",
              "12                   20   38916.0  \n",
              "...                 ...       ...  \n",
              "64135                 4   38208.0  \n",
              "64148                 5   19428.0  \n",
              "64152                20     200.0  \n",
              "64153                 3   15048.0  \n",
              "64154  Less than 1 year   38759.0  \n",
              "\n",
              "[30019 rows x 4 columns]"
            ],
            "text/html": [
              "\n",
              "\n",
              "  <div id=\"df-ff40220e-a8fa-4eb6-8c8b-ac088ea502af\">\n",
              "    <div class=\"colab-df-container\">\n",
              "      <div>\n",
              "<style scoped>\n",
              "    .dataframe tbody tr th:only-of-type {\n",
              "        vertical-align: middle;\n",
              "    }\n",
              "\n",
              "    .dataframe tbody tr th {\n",
              "        vertical-align: top;\n",
              "    }\n",
              "\n",
              "    .dataframe thead th {\n",
              "        text-align: right;\n",
              "    }\n",
              "</style>\n",
              "<table border=\"1\" class=\"dataframe\">\n",
              "  <thead>\n",
              "    <tr style=\"text-align: right;\">\n",
              "      <th></th>\n",
              "      <th>Country</th>\n",
              "      <th>EdLevel</th>\n",
              "      <th>YearsCodePro</th>\n",
              "      <th>Salary</th>\n",
              "    </tr>\n",
              "  </thead>\n",
              "  <tbody>\n",
              "    <tr>\n",
              "      <th>7</th>\n",
              "      <td>United States</td>\n",
              "      <td>Bachelor’s degree (B.A., B.S., B.Eng., etc.)</td>\n",
              "      <td>13</td>\n",
              "      <td>116000.0</td>\n",
              "    </tr>\n",
              "    <tr>\n",
              "      <th>9</th>\n",
              "      <td>United Kingdom</td>\n",
              "      <td>Master’s degree (M.A., M.S., M.Eng., MBA, etc.)</td>\n",
              "      <td>4</td>\n",
              "      <td>32315.0</td>\n",
              "    </tr>\n",
              "    <tr>\n",
              "      <th>10</th>\n",
              "      <td>United Kingdom</td>\n",
              "      <td>Bachelor’s degree (B.A., B.S., B.Eng., etc.)</td>\n",
              "      <td>2</td>\n",
              "      <td>40070.0</td>\n",
              "    </tr>\n",
              "    <tr>\n",
              "      <th>11</th>\n",
              "      <td>Spain</td>\n",
              "      <td>Some college/university study without earning ...</td>\n",
              "      <td>7</td>\n",
              "      <td>14268.0</td>\n",
              "    </tr>\n",
              "    <tr>\n",
              "      <th>12</th>\n",
              "      <td>Netherlands</td>\n",
              "      <td>Secondary school (e.g. American high school, G...</td>\n",
              "      <td>20</td>\n",
              "      <td>38916.0</td>\n",
              "    </tr>\n",
              "    <tr>\n",
              "      <th>...</th>\n",
              "      <td>...</td>\n",
              "      <td>...</td>\n",
              "      <td>...</td>\n",
              "      <td>...</td>\n",
              "    </tr>\n",
              "    <tr>\n",
              "      <th>64135</th>\n",
              "      <td>Denmark</td>\n",
              "      <td>Bachelor’s degree (B.A., B.S., B.Eng., etc.)</td>\n",
              "      <td>4</td>\n",
              "      <td>38208.0</td>\n",
              "    </tr>\n",
              "    <tr>\n",
              "      <th>64148</th>\n",
              "      <td>Colombia</td>\n",
              "      <td>Bachelor’s degree (B.A., B.S., B.Eng., etc.)</td>\n",
              "      <td>5</td>\n",
              "      <td>19428.0</td>\n",
              "    </tr>\n",
              "    <tr>\n",
              "      <th>64152</th>\n",
              "      <td>United States</td>\n",
              "      <td>Some college/university study without earning ...</td>\n",
              "      <td>20</td>\n",
              "      <td>200.0</td>\n",
              "    </tr>\n",
              "    <tr>\n",
              "      <th>64153</th>\n",
              "      <td>Chile</td>\n",
              "      <td>Bachelor’s degree (B.A., B.S., B.Eng., etc.)</td>\n",
              "      <td>3</td>\n",
              "      <td>15048.0</td>\n",
              "    </tr>\n",
              "    <tr>\n",
              "      <th>64154</th>\n",
              "      <td>Japan</td>\n",
              "      <td>Bachelor’s degree (B.A., B.S., B.Eng., etc.)</td>\n",
              "      <td>Less than 1 year</td>\n",
              "      <td>38759.0</td>\n",
              "    </tr>\n",
              "  </tbody>\n",
              "</table>\n",
              "<p>30019 rows × 4 columns</p>\n",
              "</div>\n",
              "      <button class=\"colab-df-convert\" onclick=\"convertToInteractive('df-ff40220e-a8fa-4eb6-8c8b-ac088ea502af')\"\n",
              "              title=\"Convert this dataframe to an interactive table.\"\n",
              "              style=\"display:none;\">\n",
              "\n",
              "  <svg xmlns=\"http://www.w3.org/2000/svg\" height=\"24px\"viewBox=\"0 0 24 24\"\n",
              "       width=\"24px\">\n",
              "    <path d=\"M0 0h24v24H0V0z\" fill=\"none\"/>\n",
              "    <path d=\"M18.56 5.44l.94 2.06.94-2.06 2.06-.94-2.06-.94-.94-2.06-.94 2.06-2.06.94zm-11 1L8.5 8.5l.94-2.06 2.06-.94-2.06-.94L8.5 2.5l-.94 2.06-2.06.94zm10 10l.94 2.06.94-2.06 2.06-.94-2.06-.94-.94-2.06-.94 2.06-2.06.94z\"/><path d=\"M17.41 7.96l-1.37-1.37c-.4-.4-.92-.59-1.43-.59-.52 0-1.04.2-1.43.59L10.3 9.45l-7.72 7.72c-.78.78-.78 2.05 0 2.83L4 21.41c.39.39.9.59 1.41.59.51 0 1.02-.2 1.41-.59l7.78-7.78 2.81-2.81c.8-.78.8-2.07 0-2.86zM5.41 20L4 18.59l7.72-7.72 1.47 1.35L5.41 20z\"/>\n",
              "  </svg>\n",
              "      </button>\n",
              "\n",
              "\n",
              "\n",
              "    <div id=\"df-ea206ada-9fcd-4c94-97f6-661e5635664d\">\n",
              "      <button class=\"colab-df-quickchart\" onclick=\"quickchart('df-ea206ada-9fcd-4c94-97f6-661e5635664d')\"\n",
              "              title=\"Suggest charts.\"\n",
              "              style=\"display:none;\">\n",
              "\n",
              "<svg xmlns=\"http://www.w3.org/2000/svg\" height=\"24px\"viewBox=\"0 0 24 24\"\n",
              "     width=\"24px\">\n",
              "    <g>\n",
              "        <path d=\"M19 3H5c-1.1 0-2 .9-2 2v14c0 1.1.9 2 2 2h14c1.1 0 2-.9 2-2V5c0-1.1-.9-2-2-2zM9 17H7v-7h2v7zm4 0h-2V7h2v10zm4 0h-2v-4h2v4z\"/>\n",
              "    </g>\n",
              "</svg>\n",
              "      </button>\n",
              "    </div>\n",
              "\n",
              "<style>\n",
              "  .colab-df-quickchart {\n",
              "    background-color: #E8F0FE;\n",
              "    border: none;\n",
              "    border-radius: 50%;\n",
              "    cursor: pointer;\n",
              "    display: none;\n",
              "    fill: #1967D2;\n",
              "    height: 32px;\n",
              "    padding: 0 0 0 0;\n",
              "    width: 32px;\n",
              "  }\n",
              "\n",
              "  .colab-df-quickchart:hover {\n",
              "    background-color: #E2EBFA;\n",
              "    box-shadow: 0px 1px 2px rgba(60, 64, 67, 0.3), 0px 1px 3px 1px rgba(60, 64, 67, 0.15);\n",
              "    fill: #174EA6;\n",
              "  }\n",
              "\n",
              "  [theme=dark] .colab-df-quickchart {\n",
              "    background-color: #3B4455;\n",
              "    fill: #D2E3FC;\n",
              "  }\n",
              "\n",
              "  [theme=dark] .colab-df-quickchart:hover {\n",
              "    background-color: #434B5C;\n",
              "    box-shadow: 0px 1px 3px 1px rgba(0, 0, 0, 0.15);\n",
              "    filter: drop-shadow(0px 1px 2px rgba(0, 0, 0, 0.3));\n",
              "    fill: #FFFFFF;\n",
              "  }\n",
              "</style>\n",
              "\n",
              "    <script>\n",
              "      async function quickchart(key) {\n",
              "        const containerElement = document.querySelector('#' + key);\n",
              "        const charts = await google.colab.kernel.invokeFunction(\n",
              "            'suggestCharts', [key], {});\n",
              "      }\n",
              "    </script>\n",
              "\n",
              "      <script>\n",
              "\n",
              "function displayQuickchartButton(domScope) {\n",
              "  let quickchartButtonEl =\n",
              "    domScope.querySelector('#df-ea206ada-9fcd-4c94-97f6-661e5635664d button.colab-df-quickchart');\n",
              "  quickchartButtonEl.style.display =\n",
              "    google.colab.kernel.accessAllowed ? 'block' : 'none';\n",
              "}\n",
              "\n",
              "        displayQuickchartButton(document);\n",
              "      </script>\n",
              "      <style>\n",
              "    .colab-df-container {\n",
              "      display:flex;\n",
              "      flex-wrap:wrap;\n",
              "      gap: 12px;\n",
              "    }\n",
              "\n",
              "    .colab-df-convert {\n",
              "      background-color: #E8F0FE;\n",
              "      border: none;\n",
              "      border-radius: 50%;\n",
              "      cursor: pointer;\n",
              "      display: none;\n",
              "      fill: #1967D2;\n",
              "      height: 32px;\n",
              "      padding: 0 0 0 0;\n",
              "      width: 32px;\n",
              "    }\n",
              "\n",
              "    .colab-df-convert:hover {\n",
              "      background-color: #E2EBFA;\n",
              "      box-shadow: 0px 1px 2px rgba(60, 64, 67, 0.3), 0px 1px 3px 1px rgba(60, 64, 67, 0.15);\n",
              "      fill: #174EA6;\n",
              "    }\n",
              "\n",
              "    [theme=dark] .colab-df-convert {\n",
              "      background-color: #3B4455;\n",
              "      fill: #D2E3FC;\n",
              "    }\n",
              "\n",
              "    [theme=dark] .colab-df-convert:hover {\n",
              "      background-color: #434B5C;\n",
              "      box-shadow: 0px 1px 3px 1px rgba(0, 0, 0, 0.15);\n",
              "      filter: drop-shadow(0px 1px 2px rgba(0, 0, 0, 0.3));\n",
              "      fill: #FFFFFF;\n",
              "    }\n",
              "  </style>\n",
              "\n",
              "      <script>\n",
              "        const buttonEl =\n",
              "          document.querySelector('#df-ff40220e-a8fa-4eb6-8c8b-ac088ea502af button.colab-df-convert');\n",
              "        buttonEl.style.display =\n",
              "          google.colab.kernel.accessAllowed ? 'block' : 'none';\n",
              "\n",
              "        async function convertToInteractive(key) {\n",
              "          const element = document.querySelector('#df-ff40220e-a8fa-4eb6-8c8b-ac088ea502af');\n",
              "          const dataTable =\n",
              "            await google.colab.kernel.invokeFunction('convertToInteractive',\n",
              "                                                     [key], {});\n",
              "          if (!dataTable) return;\n",
              "\n",
              "          const docLinkHtml = 'Like what you see? Visit the ' +\n",
              "            '<a target=\"_blank\" href=https://colab.research.google.com/notebooks/data_table.ipynb>data table notebook</a>'\n",
              "            + ' to learn more about interactive tables.';\n",
              "          element.innerHTML = '';\n",
              "          dataTable['output_type'] = 'display_data';\n",
              "          await google.colab.output.renderOutput(dataTable, element);\n",
              "          const docLink = document.createElement('div');\n",
              "          docLink.innerHTML = docLinkHtml;\n",
              "          element.appendChild(docLink);\n",
              "        }\n",
              "      </script>\n",
              "    </div>\n",
              "  </div>\n"
            ]
          },
          "metadata": {},
          "execution_count": 116
        }
      ]
    },
    {
      "cell_type": "code",
      "source": [
        "# See the counts of each value in the Country variable\n",
        "df['Country'].value_counts()"
      ],
      "metadata": {
        "colab": {
          "base_uri": "https://localhost:8080/"
        },
        "id": "XAglElj-Cp8q",
        "outputId": "ea0c5006-4075-47e8-facf-04a7467ff3ee"
      },
      "execution_count": 117,
      "outputs": [
        {
          "output_type": "execute_result",
          "data": {
            "text/plain": [
              "United States     7569\n",
              "India             2425\n",
              "United Kingdom    2287\n",
              "Germany           1903\n",
              "Canada            1178\n",
              "                  ... \n",
              "Benin                1\n",
              "Fiji                 1\n",
              "San Marino           1\n",
              "Guinea               1\n",
              "Andorra              1\n",
              "Name: Country, Length: 154, dtype: int64"
            ]
          },
          "metadata": {},
          "execution_count": 117
        }
      ]
    },
    {
      "cell_type": "markdown",
      "source": [
        "Countries such as Benin, Figi, San Marino each have a count of 1, and that is not ideal as a model cannot learn from a single point. Therefore, remove those with a count < 400"
      ],
      "metadata": {
        "id": "BxychZbVFPcv"
      }
    },
    {
      "cell_type": "code",
      "source": [
        "# Create a fxn called shorten_categories to set this cutoff\n",
        "def shorten_categories(categories, cutoff):\n",
        "  categorical_map = {}\n",
        "  for i in range(len(categories)):\n",
        "    if categories.values[i]  >= cutoff:\n",
        "      categorical_map[categories.index[i]] = categories.index[i]\n",
        "    else:\n",
        "      categorical_map[categories.index[i]] = 'Other'\n",
        "  return categorical_map"
      ],
      "metadata": {
        "id": "-qcroA8SE-gv"
      },
      "execution_count": 118,
      "outputs": []
    },
    {
      "cell_type": "code",
      "source": [
        "# Data points/rows countries with less than 400 will be called other\n",
        "country_map = shorten_categories(df.Country.value_counts(), 400)\n",
        "df['Country'] = df['Country'].map(country_map)\n",
        "df['Country'].value_counts()"
      ],
      "metadata": {
        "colab": {
          "base_uri": "https://localhost:8080/"
        },
        "id": "ZuwfQbpBFxol",
        "outputId": "d9cfe9fd-c8c6-4b3a-e63e-07f346ff430d"
      },
      "execution_count": 119,
      "outputs": [
        {
          "output_type": "execute_result",
          "data": {
            "text/plain": [
              "Other                 8549\n",
              "United States         7569\n",
              "India                 2425\n",
              "United Kingdom        2287\n",
              "Germany               1903\n",
              "Canada                1178\n",
              "Brazil                 991\n",
              "France                 972\n",
              "Spain                  670\n",
              "Australia              659\n",
              "Netherlands            654\n",
              "Poland                 566\n",
              "Italy                  560\n",
              "Russian Federation     522\n",
              "Sweden                 514\n",
              "Name: Country, dtype: int64"
            ]
          },
          "metadata": {},
          "execution_count": 119
        }
      ]
    },
    {
      "cell_type": "markdown",
      "source": [
        "Use matplotlib and pandas libraries to create a boxplot to visualize the distribution of salaries (in US$) across different countries."
      ],
      "metadata": {
        "id": "rJzEezdjHEL9"
      }
    },
    {
      "cell_type": "code",
      "source": [
        "fig, ax = plt.subplots(1,1, figsize = (12,7))\n",
        "df.boxplot('Salary', 'Country', ax = ax)\n",
        "plt.suptitle('Salary (US$) vs. Country')\n",
        "plt.title('Boxplots of distribution of salaries across different countries ')\n",
        "plt.ylabel('Salary')\n",
        "plt.xticks(rotation = 90)\n",
        "plt.show()"
      ],
      "metadata": {
        "colab": {
          "base_uri": "https://localhost:8080/",
          "height": 779
        },
        "id": "IMBCJDUGE-jN",
        "outputId": "6b0c921f-1850-4c1b-8ddb-7dc7603543e1"
      },
      "execution_count": 120,
      "outputs": [
        {
          "output_type": "display_data",
          "data": {
            "text/plain": [
              "<Figure size 1200x700 with 1 Axes>"
            ],
            "image/png": "[encoded data removed]"
          },
          "metadata": {}
        }
      ]
    },
    {
      "cell_type": "markdown",
      "source": [
        "Based on the boxplots of all the countries, there are numerous outliers, and most of the data is within a salary between 10,000 and 250,000. Now make the salary to be between 10,000 and 250,000, and remove the rows with Other\n"
      ],
      "metadata": {
        "id": "3NC-jVP3HND_"
      }
    },
    {
      "cell_type": "code",
      "source": [
        "df = df[df[\"Salary\"] <= 250000]\n",
        "df = df[df[\"Salary\"] >= 10000]\n",
        "df = df[df['Country'] != 'Other']"
      ],
      "metadata": {
        "id": "mYJGqQIAE-lw"
      },
      "execution_count": 121,
      "outputs": []
    },
    {
      "cell_type": "code",
      "source": [
        "# Draw same plot\n",
        "fig, ax = plt.subplots(1,1, figsize=(12, 7))\n",
        "df.boxplot('Salary', 'Country', ax=ax)\n",
        "plt.suptitle('Salary (US$) v Country')\n",
        "plt.title('')\n",
        "plt.ylabel('Salary')\n",
        "plt.xticks(rotation=90)\n",
        "plt.show()"
      ],
      "metadata": {
        "colab": {
          "base_uri": "https://localhost:8080/",
          "height": 779
        },
        "id": "ODsOclseE-oA",
        "outputId": "102dad75-eceb-48e7-e733-f69bc7a9c65a"
      },
      "execution_count": 122,
      "outputs": [
        {
          "output_type": "display_data",
          "data": {
            "text/plain": [
              "<Figure size 1200x700 with 1 Axes>"
            ],
            "image/png": "[encoded data removed]"
          },
          "metadata": {}
        }
      ]
    },
    {
      "cell_type": "code",
      "source": [
        "# See the unique values of the variable YearsCodePro\n",
        "df['YearsCodePro'].unique()"
      ],
      "metadata": {
        "colab": {
          "base_uri": "https://localhost:8080/"
        },
        "id": "vUZA8MkXE-qM",
        "outputId": "b96e1a1c-9d1f-430a-a288-af338744784a"
      },
      "execution_count": 123,
      "outputs": [
        {
          "output_type": "execute_result",
          "data": {
            "text/plain": [
              "array(['13', '4', '2', '7', '20', '1', '3', '10', '12', '29', '6', '28',\n",
              "       '8', '23', '15', '25', '9', '11', 'Less than 1 year', '5', '21',\n",
              "       '16', '18', '14', '32', '19', '22', '38', '30', '26', '27', '17',\n",
              "       '24', '34', '35', '33', '36', '40', '39', 'More than 50 years',\n",
              "       '31', '37', '41', '45', '42', '44', '43', '50', '49'], dtype=object)"
            ]
          },
          "metadata": {},
          "execution_count": 123
        }
      ]
    },
    {
      "cell_type": "markdown",
      "source": [
        "There are values like Less than 1 year and more than 50 years. Make a function called clean_experience that sets More than 50 years to 50 and less than 1 year to 0.5"
      ],
      "metadata": {
        "id": "THk-Fp56ITF8"
      }
    },
    {
      "cell_type": "code",
      "source": [
        "def clean_experience(x):\n",
        "    if x ==  'More than 50 years':\n",
        "        return 50\n",
        "    if x == 'Less than 1 year':\n",
        "        return 0.5\n",
        "    return float(x)\n",
        "\n",
        "df['YearsCodePro'] = df['YearsCodePro'].apply(clean_experience)\n",
        "df['YearsCodePro'].unique()"
      ],
      "metadata": {
        "colab": {
          "base_uri": "https://localhost:8080/"
        },
        "id": "jMk0nF-wCp_F",
        "outputId": "1ad02877-a051-45ab-968a-0ebf9742e231"
      },
      "execution_count": 124,
      "outputs": [
        {
          "output_type": "execute_result",
          "data": {
            "text/plain": [
              "array([13. ,  4. ,  2. ,  7. , 20. ,  1. ,  3. , 10. , 12. , 29. ,  6. ,\n",
              "       28. ,  8. , 23. , 15. , 25. ,  9. , 11. ,  0.5,  5. , 21. , 16. ,\n",
              "       18. , 14. , 32. , 19. , 22. , 38. , 30. , 26. , 27. , 17. , 24. ,\n",
              "       34. , 35. , 33. , 36. , 40. , 39. , 50. , 31. , 37. , 41. , 45. ,\n",
              "       42. , 44. , 43. , 49. ])"
            ]
          },
          "metadata": {},
          "execution_count": 124
        }
      ]
    },
    {
      "cell_type": "code",
      "source": [
        "# See the unique values of EdLevel\n",
        "df['EdLevel'].unique()"
      ],
      "metadata": {
        "colab": {
          "base_uri": "https://localhost:8080/"
        },
        "id": "l8T4psh0CqBk",
        "outputId": "b2d9819d-0e10-4725-81d6-67f5ff3a9564"
      },
      "execution_count": 125,
      "outputs": [
        {
          "output_type": "execute_result",
          "data": {
            "text/plain": [
              "array(['Bachelor’s degree (B.A., B.S., B.Eng., etc.)',\n",
              "       'Master’s degree (M.A., M.S., M.Eng., MBA, etc.)',\n",
              "       'Some college/university study without earning a degree',\n",
              "       'Secondary school (e.g. American high school, German Realschule or Gymnasium, etc.)',\n",
              "       'Associate degree (A.A., A.S., etc.)',\n",
              "       'Professional degree (JD, MD, etc.)',\n",
              "       'Other doctoral degree (Ph.D., Ed.D., etc.)',\n",
              "       'I never completed any formal education',\n",
              "       'Primary/elementary school'], dtype=object)"
            ]
          },
          "metadata": {},
          "execution_count": 125
        }
      ]
    },
    {
      "cell_type": "code",
      "source": [
        "# Only care about bachelors, masters, professional, doctoral\n",
        "# Rename them & make professional & doctoral called post grad\n",
        "def clean_education(x):\n",
        "    if 'Bachelor’s degree' in x:\n",
        "        return 'Bachelor’s degree'\n",
        "    if 'Master’s degree' in x:\n",
        "        return 'Master’s degree'\n",
        "    if 'Professional degree' in x or 'Other doctoral' in x:\n",
        "        return 'Post grad'\n",
        "    return 'Less than a Bachelors'\n",
        "\n",
        "df['EdLevel'] = df['EdLevel'].apply(clean_education)"
      ],
      "metadata": {
        "id": "xTVdbD7nCqEF"
      },
      "execution_count": 126,
      "outputs": []
    },
    {
      "cell_type": "markdown",
      "source": [
        "Model Training"
      ],
      "metadata": {
        "id": "NdbP4_xeJRHR"
      }
    },
    {
      "cell_type": "code",
      "source": [
        "# The variables Edlevel and country are strings, and we need to convert those to a number form\n",
        "# so we can train the model. Use the LabelEncoder functionality\n",
        "# Each value will be converted to a number\n",
        "from sklearn.preprocessing import LabelEncoder\n",
        "\n",
        "# Encode education\n",
        "le_education = LabelEncoder()\n",
        "df['EdLevel'] = le_education.fit_transform(df['EdLevel'])\n",
        "\n",
        "# Encode country\n",
        "le_country = LabelEncoder()\n",
        "df['Country'] = le_country.fit_transform(df['Country'])\n"
      ],
      "metadata": {
        "id": "rDY6kXXeCqJB"
      },
      "execution_count": 127,
      "outputs": []
    },
    {
      "cell_type": "code",
      "source": [
        "# We are trying to predict the salary so y should be salary, and the other variables are x\n",
        "y = df['Salary']\n",
        "x = df.drop('Salary', axis = 1)"
      ],
      "metadata": {
        "id": "xBrmq2XBCqLo"
      },
      "execution_count": 128,
      "outputs": []
    },
    {
      "cell_type": "markdown",
      "source": [
        "Linear regression is a widely used and effective method for predicting variables because of its simplicity and interpretability. It assumes a linear relationship between the input features and the target variable, making it easy to understand the impact of each feature on the prediction. Additionally, linear regression can be applied to both numerical and categorical data, making it a versatile choice for a wide range of prediction tasks in various fields like finance, economics, and machine learning."
      ],
      "metadata": {
        "id": "bkNQw2FBKZYu"
      }
    },
    {
      "cell_type": "markdown",
      "source": [
        "Use MSE when:\n",
        "\n",
        "You are interested in comparing different models solely based on their prediction performance, without concern for the unit of measurement of the target variable.\n",
        "You prefer working with a simpler, computationally efficient metric, as MSE does not require taking the square root.\n",
        "\n",
        "Use RMSE when:\n",
        "\n",
        "You want to interpret the prediction error in the same unit as the target variable, which makes it easier to understand the magnitude of errors in a practical context.\n",
        "You need a metric that is more intuitive to communicate to non-technical stakeholders, as the RMSE is directly interpretable and has the same unit as the original data.\n",
        "You want to penalize larger prediction errors more heavily, as RMSE emphasizes the impact of outliers due to the square root operation.\n",
        "\n",
        "\n",
        "In general, RMSE is more commonly used in practice due to its interpretability and ease of communication. However, both MSE and RMSE are widely used and acceptable metrics for evaluating regression models. The choice ultimately depends on the specific requirements and objectives of your analysis or project.\n",
        "\n",
        "\n",
        "\n",
        "\n",
        "\n",
        "\n",
        "\n"
      ],
      "metadata": {
        "id": "gNqRK89fL9z6"
      }
    },
    {
      "cell_type": "code",
      "source": [
        "# Import the LinearRegression class from scikit-learn's linear_model module.\n",
        "# It allows us to use the linear regression algorithm for modeling and predicting data.\n",
        "from sklearn.linear_model import LinearRegression\n",
        "linear_reg = LinearRegression()\n",
        "linear_reg.fit(x, y.values)\n",
        "\n",
        "y_pred = linear_reg.predict(x)\n",
        "\n",
        "# Use Mean Squared Error as it provides a measure of how well the model's predictions match\n",
        "# the actual values of the target variable. The MSE is a common evaluation metric for\n",
        "# regression models, and it quantifies the average squared difference between the predicted\n",
        "# values and the true values.\n",
        "\n",
        "from sklearn.metrics import mean_squared_error, mean_absolute_error\n",
        "import numpy as np\n",
        "\n",
        "#Calculate RMSE (Root Mean Squared Error)\n",
        "error = np.sqrt(mean_squared_error(y, y_pred))\n",
        "print(\"${:,.02f}\".format(error))\n"
      ],
      "metadata": {
        "colab": {
          "base_uri": "https://localhost:8080/"
        },
        "id": "2uvlecV_Jh-X",
        "outputId": "a32fb17f-e9c3-4c75-d499-a98fe3148ff1"
      },
      "execution_count": 129,
      "outputs": [
        {
          "output_type": "stream",
          "name": "stdout",
          "text": [
            "$39,274.75\n"
          ]
        }
      ]
    },
    {
      "cell_type": "markdown",
      "source": [
        "We got a RMSE of 39,274.75 utilizing the Linear Regression Approach. Let's try another approach: DecisionTreeRegressor"
      ],
      "metadata": {
        "id": "DM2HDEzbMSOB"
      }
    },
    {
      "cell_type": "markdown",
      "source": [
        " DecisionTreeRegressor is a powerful and interpretable algorithm that can handle various types of data and capture complex relationships between features and target variables. It is a valuable tool in regression tasks, especially when interpretability and transparency are essential.\n",
        "\n",
        " However, decision trees also have some limitations, such as a tendency to overfit on complex datasets and sensitivity to small variations in the data. To address these issues, ensemble methods like Random Forest and Gradient Boosting are commonly employed, which utilize multiple decision trees to create more robust and accurate models.\n",
        "\n"
      ],
      "metadata": {
        "id": "DSECMebOMsoS"
      }
    },
    {
      "cell_type": "code",
      "source": [
        "from sklearn.tree import DecisionTreeRegressor\n",
        "dec_tree_reg = DecisionTreeRegressor(random_state=0)\n",
        "dec_tree_reg.fit(x, y.values)\n",
        "\n",
        "y_pred = dec_tree_reg.predict(x)\n",
        "\n",
        "error = np.sqrt(mean_squared_error(y,y_pred))\n",
        "print(\"${:,.02f}\".format(error))"
      ],
      "metadata": {
        "colab": {
          "base_uri": "https://localhost:8080/"
        },
        "id": "8NYq6rwqJiAy",
        "outputId": "c83bd85d-cb96-42c9-f7b0-dad22b395223"
      },
      "execution_count": 130,
      "outputs": [
        {
          "output_type": "stream",
          "name": "stdout",
          "text": [
            "$29,414.94\n"
          ]
        }
      ]
    },
    {
      "cell_type": "markdown",
      "source": [
        "The RMSE is less than linear regression approach. Let's try RandomForestRegressor"
      ],
      "metadata": {
        "id": "t7HHwORxNzeT"
      }
    },
    {
      "cell_type": "markdown",
      "source": [
        "DecisionTreeRegressor is simpler, more interpretable, and faster to train, but it is more prone to overfitting and may not provide the highest accuracy on complex datasets. RandomForestRegressor, on the other hand, is a powerful ensemble method that reduces overfitting, improves accuracy, and provides feature importance information. It is well-suited for more complex datasets but may be less interpretable due to its ensemble nature. The choice between the two depends on the specific characteristics of the data, the interpretability required, and the trade-offs between simplicity and accuracy."
      ],
      "metadata": {
        "id": "7HLtGUL2N6hh"
      }
    },
    {
      "cell_type": "code",
      "source": [
        "from sklearn.ensemble import RandomForestRegressor\n",
        "random_forest_reg = RandomForestRegressor(random_state=34)\n",
        "random_forest_reg.fit(x, y.values)\n",
        "\n",
        "y_pred = random_forest_reg.predict(x)\n",
        "\n",
        "error = np.sqrt(mean_squared_error(y, y_pred))\n",
        "print(\"${:,.02f}\".format(error))"
      ],
      "metadata": {
        "colab": {
          "base_uri": "https://localhost:8080/"
        },
        "id": "7rheEQyoM_6v",
        "outputId": "bd6e7763-52a3-4f33-fa7f-c6512c6e6abb"
      },
      "execution_count": 131,
      "outputs": [
        {
          "output_type": "stream",
          "name": "stdout",
          "text": [
            "$29,493.57\n"
          ]
        }
      ]
    },
    {
      "cell_type": "markdown",
      "source": [
        "Did not change much compared to the DecisionTreeRegressor. It actually increased"
      ],
      "metadata": {
        "id": "I9yni3JoOZi5"
      }
    },
    {
      "cell_type": "markdown",
      "source": [
        "- Perform hyperparameter tuning for a DecisionTreeRegressor model using grid search. - Search for the best combination of hyperparameters (specifically, the max_depth of the decision tree) by evaluating different options with negative mean squared error as the scoring metric.\n",
        "- After finding the best hyperparameters, train the optimized DecisionTreeRegressor on the data and calculates the root mean squared error (RMSE) between the true target values and the predictions."
      ],
      "metadata": {
        "id": "CjdmEGxNO3js"
      }
    },
    {
      "cell_type": "code",
      "source": [
        "from sklearn.model_selection import GridSearchCV\n",
        "\n",
        "max_depth = [None, 2,4,6,8,10,12]\n",
        "parameters = {\"max_depth\": max_depth}\n",
        "\n",
        "regressor = DecisionTreeRegressor(random_state=0)\n",
        "gs = GridSearchCV(regressor, parameters, scoring='neg_mean_squared_error')\n",
        "gs.fit(x, y.values)\n",
        "\n",
        "regressor = gs.best_estimator_\n",
        "\n",
        "regressor.fit(x, y.values)\n",
        "y_pred = regressor.predict(x)\n",
        "error = np.sqrt(mean_squared_error(y, y_pred))\n",
        "print(\"${:,.02f}\".format(error))"
      ],
      "metadata": {
        "colab": {
          "base_uri": "https://localhost:8080/"
        },
        "id": "rQv7bHEpJiDH",
        "outputId": "10ba6ddf-dcb2-4e12-e903-3dc5dadf0b95"
      },
      "execution_count": 132,
      "outputs": [
        {
          "output_type": "stream",
          "name": "stdout",
          "text": [
            "$30,428.51\n"
          ]
        }
      ]
    },
    {
      "cell_type": "markdown",
      "source": [
        "Pickle is a Python module used for serializing and deserializing Python objects. It allows you to convert complex data structures, such as lists, dictionaries, and trained machine learning models, into a format that can be easily stored in a file or transferred over the network. Pickle enables you to save the state of objects to disk and later restore them, making it useful for caching, model persistence, and sharing data between different Python programs."
      ],
      "metadata": {
        "id": "FxPg3qqJQTlu"
      }
    },
    {
      "cell_type": "code",
      "source": [
        "import pickle\n",
        "\n",
        "data = {\"model\": dec_tree_reg, \"le_country\": le_country, \"le_education\": le_education}\n",
        "with open('saved_steps.pkl3', 'wb') as file:\n",
        "    pickle.dump(data, file)\n"
      ],
      "metadata": {
        "id": "sIIBEswFJiFe"
      },
      "execution_count": 133,
      "outputs": []
    }
  ]
}